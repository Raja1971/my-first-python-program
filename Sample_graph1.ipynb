{
  "nbformat": 4,
  "nbformat_minor": 0,
  "metadata": {
    "colab": {
      "provenance": [],
      "authorship_tag": "ABX9TyOBvqEmkYE4q0iV8WcKAXVS",
      "include_colab_link": true
    },
    "kernelspec": {
      "name": "python3",
      "display_name": "Python 3"
    },
    "language_info": {
      "name": "python"
    }
  },
  "cells": [
    {
      "cell_type": "markdown",
      "metadata": {
        "id": "view-in-github",
        "colab_type": "text"
      },
      "source": [
        "<a href=\"https://colab.research.google.com/github/Raja1971/my-first-python-program/blob/main/Sample_graph1.ipynb\" target=\"_parent\"><img src=\"https://colab.research.google.com/assets/colab-badge.svg\" alt=\"Open In Colab\"/></a>"
      ]
    },
    {
      "cell_type": "code",
      "execution_count": null,
      "metadata": {
        "id": "MzEWWiMG5jIH"
      },
      "outputs": [],
      "source": [
        "import matplotlib.pyplot as plt\n",
        "\n",
        "# Simulated vote counts over 5 ballots for top contenders\n",
        "ballots = [1, 2, 3, 4, 5]\n",
        "\n",
        "# Hypothetical vote trajectories\n",
        "zuppi_votes = [20, 30, 45, 30, 27]     # Gains momentum as initial compromise choice\n",
        "parolin_votes = [25, 35, 38, 30, 20]   # Peaks early but loses support\n",
        "sarah_votes = [18, 22, 25, 27, 27]     # Solid conservative base but plateaus\n",
        "erdo_votes = [15, 17, 19, 20, 22]      # Gradual rise but still minor\n",
        "tagle_votes = [22, 20, 18, 15, 10]     # Early support fades as blocs shift\n",
        "prevost_votes = [27,31,54,71,90]       # Resolute winner from America\n",
        "\n",
        "plt.figure(figsize=(10, 6))\n",
        "plt.plot(ballots, zuppi_votes, marker='o', label=\"Zuppi (Moderate Progressive)\")\n",
        "plt.plot(ballots, parolin_votes, marker='o', label=\"Parolin (Diplomatic Insider)\")\n",
        "plt.plot(ballots, sarah_votes, marker='o', label=\"Sarah (Traditionalist)\")\n",
        "plt.plot(ballots, erdo_votes, marker='o', label=\"Erdő (Doctrinal Conservative)\")\n",
        "plt.plot(ballots, tagle_votes, marker='o', label=\"Tagle (Global South Progressive)\")\n",
        "plt.plot(ballots, prevost_votes, marker = 'o', label = \"Prevost ( The Americah Dark Horse)\")\n",
        "\n",
        "plt.title(\"Simulated Papal Conclave Voting Trends\")\n",
        "plt.xlabel(\"Ballot Round\")\n",
        "plt.ylabel(\"Number of Votes\")\n",
        "plt.xticks(ballots)\n",
        "plt.axhline(y=80, color='gray', linestyle='--', label=\"2/3 Majority (Est.)\")\n",
        "plt.legend()\n",
        "plt.grid(True)\n",
        "plt.tight_layout()\n",
        "plt.show()"
      ]
    }
  ]
}